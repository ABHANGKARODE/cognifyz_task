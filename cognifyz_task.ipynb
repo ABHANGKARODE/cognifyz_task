{
 "cells": [
  {
   "cell_type": "code",
   "execution_count": 5,
   "id": "db026a3d-ef5f-45c2-ab48-b7c066e55d83",
   "metadata": {},
   "outputs": [
    {
     "name": "stdout",
     "output_type": "stream",
     "text": [
      "Top Three Most Common Cuisines:\n",
      "Cuisines\n",
      "North Indian             936\n",
      "North Indian, Chinese    511\n",
      "Chinese                  354\n",
      "Name: count, dtype: int64\n",
      "\n",
      "Percentage of Total Entries for Top Three Cuisines:\n",
      "Cuisines\n",
      "North Indian             9.800021\n",
      "North Indian, Chinese    5.350225\n",
      "Chinese                  3.706418\n",
      "Name: count, dtype: float64\n"
     ]
    }
   ],
   "source": [
    "#level 1 #\"Task 1  : Top Cuisines\n",
    "#Determine the top three most common cuisines in the dataset.\n",
    "#Calculate the percentage of restaurants that serve each of the top cuisines.\"\n",
    "import pandas as pd\n",
    "\n",
    "# Load the data with the correct encoding\n",
    "data = pd.read_csv('cognifyz/cognifyz_data.csv', encoding='utf-8')\n",
    "\n",
    "# Get the top three most common cuisines\n",
    "top_cuisines = data['Cuisines'].value_counts().head(3)\n",
    "\n",
    "# Calculate the percentage of the total for each of the top three cuisines\n",
    "top_cuisines_percent = (top_cuisines / data.shape[0]) * 100\n",
    "\n",
    "# Display the results\n",
    "print(\"Top Three Most Common Cuisines:\")\n",
    "print(top_cuisines)\n",
    "print(\"\\nPercentage of Total Entries for Top Three Cuisines:\")\n",
    "print(top_cuisines_percent)\n"
   ]
  },
  {
   "cell_type": "code",
   "execution_count": 8,
   "id": "19a17666-0164-48b3-918e-02d32ea48d52",
   "metadata": {},
   "outputs": [
    {
     "name": "stdout",
     "output_type": "stream",
     "text": [
      "City with the Highest Number of Restaurants:\n",
      "New Delhi\n",
      "\n",
      "Average Ratings for Restaurants in Each City:\n",
      "City\n",
      "Abu Dhabi          4.300000\n",
      "Agra               3.965000\n",
      "Ahmedabad          4.161905\n",
      "Albany             3.555000\n",
      "Allahabad          3.395000\n",
      "                     ...   \n",
      "Weirton            3.900000\n",
      "Wellington City    4.250000\n",
      "Winchester Bay     3.200000\n",
      "Yorkton            3.300000\n",
      "stanbul            4.292857\n",
      "Name: Aggregate rating, Length: 141, dtype: float64\n",
      "\n",
      "City with the Highest Average Rating:\n",
      "Inner City\n"
     ]
    }
   ],
   "source": [
    "#level 1 #Task 2 : City Analysis\n",
    "\n",
    "#Identify the city with the highest number of restaurants in the dataset.\n",
    "#Calculate the average rating for restaurants in each city.\n",
    "#Determine the city with the highest average rating.\n",
    "# Identify the city with the highest number of restaurants\n",
    "import pandas as pd\n",
    "\n",
    "# Load the data with the correct encoding\n",
    "data = pd.read_csv('cognifyz/cognifyz_data.csv', encoding='utf-8')\n",
    "\n",
    "# Replace problematic characters in the 'City' column\n",
    "data['City'] = data['City'].str.replace('�', '')\n",
    "\n",
    "# Identify the city with the highest number of restaurants\n",
    "city_count = data['City'].value_counts().idxmax()\n",
    "\n",
    "# Calculate the average rating for restaurants in each city\n",
    "average_ratings = data.groupby('City')['Aggregate rating'].mean()\n",
    "\n",
    "# Determine the city with the highest average rating\n",
    "highest_avg_rating_city = average_ratings.idxmax()\n",
    "\n",
    "# Display the results\n",
    "print(\"City with the Highest Number of Restaurants:\")\n",
    "print(city_count)\n",
    "print(\"\\nAverage Ratings for Restaurants in Each City:\")\n",
    "print(average_ratings)\n",
    "print(\"\\nCity with the Highest Average Rating:\")\n",
    "print(highest_avg_rating_city)\n"
   ]
  },
  {
   "cell_type": "code",
   "execution_count": 12,
   "id": "4e15727c-a027-4678-9580-aeb1d58f9ad8",
   "metadata": {},
   "outputs": [
    {
     "data": {
      "image/png": "[encoded data removed]",
      "text/plain": [
       "<Figure size 1000x600 with 1 Axes>"
      ]
     },
     "metadata": {},
     "output_type": "display_data"
    },
    {
     "name": "stdout",
     "output_type": "stream",
     "text": [
      "Count of Restaurants for Each Price Range:\n",
      "Price range\n",
      "1    4444\n",
      "2    3113\n",
      "3    1408\n",
      "4     586\n",
      "Name: count, dtype: int64\n",
      "\n",
      "Percentage Distribution of Price Ranges Among Restaurants:\n",
      "Price range\n",
      "1    46.529159\n",
      "2    32.593446\n",
      "3    14.741912\n",
      "4     6.135483\n",
      "Name: count, dtype: float64\n"
     ]
    }
   ],
   "source": [
    "#level 1 #Task 3 : Price Range Distribution\n",
    "#Create a histogram or bar chart to visualize the distribution of price ranges among the restaurants.\n",
    "#Calculate the percentage of restaurants in each price range category.\n",
    "import pandas as pd\n",
    "import matplotlib.pyplot as plt\n",
    "\n",
    "# Create a histogram for the distribution of price ranges\n",
    "price_range_distribution = data['Price range'].value_counts()\n",
    "\n",
    "# Plotting the histogram\n",
    "plt.figure(figsize=(10, 6))\n",
    "plt.bar(price_range_distribution.index, price_range_distribution.values)\n",
    "plt.xlabel('Price Range')\n",
    "plt.ylabel('Number of Restaurants')\n",
    "plt.title('Distribution of Price Ranges Among Restaurants')\n",
    "plt.show()\n",
    "\n",
    "# Displaying the count of restaurants for each price range\n",
    "print(\"Count of Restaurants for Each Price Range:\")\n",
    "print(price_range_distribution)\n",
    "\n",
    "# Calculating the percentage distribution of each price range among the restaurants\n",
    "price_range_percent = (price_range_distribution / data.shape[0]) * 100\n",
    "\n",
    "# Displaying the percentage distribution\n",
    "print(\"\\nPercentage Distribution of Price Ranges Among Restaurants:\")\n",
    "print(price_range_percent)\n"
   ]
  },
  {
   "cell_type": "code",
   "execution_count": 13,
   "id": "96c4f968-8cd1-4931-b890-756317791e84",
   "metadata": {},
   "outputs": [
    {
     "name": "stdout",
     "output_type": "stream",
     "text": [
      "Percentage of Restaurants Offering Online Delivery:\n",
      "25.662234321013504\n",
      "\n",
      "Average Rating of Restaurants Offering Online Delivery:\n",
      "3.2488372093023257\n",
      "\n",
      "Average Rating of Restaurants Not Offering Online Delivery:\n",
      "2.465295774647887\n"
     ]
    }
   ],
   "source": [
    "#level 1 #Task 4 : Online Delivery\n",
    "#Determine the percentage of restaurants that offer online delivery.\n",
    "#Compare the average ratings of restaurants with and without online delivery.\n",
    "# Determine the percentage of restaurants that offer online delivery\n",
    "online_delivery_percent = (data['Has Online delivery'].value_counts(normalize=True) * 100).get('Yes', 0)\n",
    "\n",
    "# Compare the average ratings of restaurants with and without online delivery\n",
    "avg_rating_online_delivery = data[data['Has Online delivery'] == 'Yes']['Aggregate rating'].mean()\n",
    "avg_rating_no_online_delivery = data[data['Has Online delivery'] == 'No']['Aggregate rating'].mean()\n",
    "\n",
    "# Output the results with proper comments\n",
    "print(\"Percentage of Restaurants Offering Online Delivery:\")\n",
    "print(online_delivery_percent)\n",
    "\n",
    "print(\"\\nAverage Rating of Restaurants Offering Online Delivery:\")\n",
    "print(avg_rating_online_delivery)\n",
    "\n",
    "print(\"\\nAverage Rating of Restaurants Not Offering Online Delivery:\")\n",
    "print(avg_rating_no_online_delivery)\n"
   ]
  },
  {
   "cell_type": "code",
   "execution_count": 29,
   "id": "07281981-e241-4140-a478-76f91aa14bfb",
   "metadata": {},
   "outputs": [
    {
     "name": "stdout",
     "output_type": "stream",
     "text": [
      "Most common rating range: Orange\n",
      "Average number of votes received by restaurants: 156.909747670401\n"
     ]
    }
   ],
   "source": [
    "#level 2   #Task 1: Restaurant Ratings\n",
    "#Analyze the distribution of aggregate ratings and determine the most common rating range.\n",
    "#Calculate the average number of votes received by restaurants.\n",
    "# Step 1: Determine the most common rating range among restaurants.\n",
    "def most_common_rating_range(data):\n",
    "    rating_counts = data['Rating color'].value_counts()\n",
    "    most_common_rating = rating_counts.idxmax()\n",
    "    return most_common_rating\n",
    "\n",
    "# Step 2: Calculate the average number of votes received by restaurants.\n",
    "def average_votes(data):\n",
    "    average = data['Votes'].mean()\n",
    "    return average\n",
    "\n",
    "# Usage:\n",
    "most_common_rating = most_common_rating_range(data)\n",
    "average_vote = average_votes(data)\n",
    "\n",
    "print(\"Most common rating range:\", most_common_rating)\n",
    "print(\"Average number of votes received by restaurants:\", average_vote)\n"
   ]
  },
  {
   "cell_type": "code",
   "execution_count": 38,
   "id": "730da173-318d-452c-a37c-14deb1a2748d",
   "metadata": {},
   "outputs": [
    {
     "name": "stdout",
     "output_type": "stream",
     "text": [
      "Most common cuisine combinations:\n",
      "Cuisines\n",
      "North Indian    3960\n",
      "Chinese         2735\n",
      "Fast Food       1986\n",
      "Mughlai          995\n",
      "Italian          764\n",
      "Bakery           745\n",
      "Continental      736\n",
      "Cafe             703\n",
      "Desserts         653\n",
      "South Indian     636\n",
      "Name: count, dtype: int64\n",
      "Average rating for Italian Pizza combination: 2.8333333333333335\n"
     ]
    }
   ],
   "source": [
    "#level 2    #Task 2: Cuisine Combination\n",
    "#Identify the most common combinations of cuisines in the dataset.\n",
    "#Determine if certain cuisine combinations tend to have higher ratings.\n",
    "# Step 1: Identify the most common combinations of cuisines.\n",
    "import pandas as pd\n",
    "# Step 1: Identify the most common combinations of cuisines.\n",
    "def most_common_cuisine_combinations(data):\n",
    "    cuisine_combinations = data['Cuisines'].str.split(', ').explode().value_counts()\n",
    "    return cuisine_combinations.head(10)\n",
    "\n",
    "# Additional Analysis: Determine if certain cuisine combinations tend to have higher ratings.\n",
    "def cuisine_combination_ratings(data, cuisine_combo):\n",
    "    # Map 'Rating color' to numeric values\n",
    "    rating_color_map = {\n",
    "        'Dark Green': 5,\n",
    "        'Green': 4,\n",
    "        'Yellow': 3,\n",
    "        'Orange': 2,\n",
    "        'Red': 1,\n",
    "        'White': 0\n",
    "    }\n",
    "    data['Rating value'] = data['Rating color'].map(rating_color_map)\n",
    "    \n",
    "    combo_data = data[data['Cuisines'].str.contains(cuisine_combo[0]) & data['Cuisines'].str.contains(cuisine_combo[1])]\n",
    "    average_rating = combo_data['Rating value'].mean()\n",
    "    return average_rating\n",
    "\n",
    "# Usage:\n",
    "common_combinations = most_common_cuisine_combinations(data)\n",
    "print(\"Most common cuisine combinations:\")\n",
    "print(common_combinations)\n",
    "\n",
    "# Example of checking the average rating for 'Italian' and 'Pizza' combination\n",
    "combo_rating = cuisine_combination_ratings(data, ('Italian', 'Pizza'))\n",
    "print(\"Average rating for Italian Pizza combination:\", combo_rating)\n"
   ]
  },
  {
   "cell_type": "code",
   "execution_count": 46,
   "id": "f3e4e1be-a03d-4656-be9b-b9815cecf3ab",
   "metadata": {},
   "outputs": [
    {
     "data": {
      "image/png": "[encoded data removed]",
      "text/plain": [
       "<Figure size 640x480 with 1 Axes>"
      ]
     },
     "metadata": {},
     "output_type": "display_data"
    }
   ],
   "source": [
    "#level 2    #Task 3: Geographic Analysis\n",
    "#Plot the locations of restaurants on a map using longitude and latitude coordinates.\n",
    "#Identify any patterns or clusters of restaurants in specific areas.\n",
    "# Step 1: Plot restaurant locations using longitude and latitude coordinates on a map.\n",
    "import matplotlib.pyplot as plt\n",
    "\n",
    "def plot_restaurant_locations(data):\n",
    "    plt.scatter(data['Longitude'], data['Latitude'], alpha=0.5)\n",
    "    plt.xlabel('Longitude')\n",
    "    plt.ylabel('Latitude')\n",
    "    plt.title('Restaurant Locations')\n",
    "    plt.show()\n",
    "\n",
    "# Usage:\n",
    "plot_restaurant_locations(data)\n"
   ]
  },
  {
   "cell_type": "code",
   "execution_count": 48,
   "id": "87ac9727-007d-4750-9323-27e64ea861a2",
   "metadata": {},
   "outputs": [
    {
     "name": "stdout",
     "output_type": "stream",
     "text": [
      "Top 10 restaurant chains:\n",
      "Restaurant Name\n",
      "Cafe Coffee Day     83\n",
      "Domino's Pizza      79\n",
      "Subway              63\n",
      "Green Chick Chop    51\n",
      "McDonald's          48\n",
      "Keventers           34\n",
      "Pizza Hut           30\n",
      "Giani               29\n",
      "Baskin Robbins      28\n",
      "Barbeque Nation     26\n",
      "Name: count, dtype: int64\n",
      "Performance of Pizza Hut chain:\n",
      "{'average_rating': 3.3199999999999994, 'total_votes': 4961}\n"
     ]
    }
   ],
   "source": [
    "#level 2    #Task 4: Restaurant Chains\n",
    "#Identify if there are any restaurant chains present in the dataset.\n",
    "#Analyze the ratings and popularity of different restaurant chains.\n",
    "def find_restaurant_chains(data):\n",
    "    chains = data['Restaurant Name'].value_counts().head(10)\n",
    "    return chains\n",
    "\n",
    "# Analyze the ratings and popularity of different restaurant chains.\n",
    "def analyze_chain_performance(data, chain_name):\n",
    "    chain_data = data[data['Restaurant Name'] == chain_name]\n",
    "    average_rating = chain_data['Aggregate rating'].mean()\n",
    "    total_votes = chain_data['Votes'].sum()\n",
    "    return {'average_rating': average_rating, 'total_votes': total_votes}\n",
    "\n",
    "# Usage:\n",
    "chains = find_restaurant_chains(data)\n",
    "print(\"Top 10 restaurant chains:\")\n",
    "print(chains)\n",
    "chain_performance = analyze_chain_performance(data, 'Pizza Hut')\n",
    "print(\"Performance of Pizza Hut chain:\")\n",
    "print(chain_performance)\n"
   ]
  },
  {
   "cell_type": "code",
   "execution_count": 54,
   "id": "3bde9dfe-2021-4599-8a5c-3d073cbcb771",
   "metadata": {},
   "outputs": [
    {
     "name": "stdout",
     "output_type": "stream",
     "text": [
      "Most common positive keywords: [('good', 3179), ('excellent', 301)]\n",
      "Most common negative keywords: [('poor', 186)]\n",
      "Average length of reviews by rating:\n",
      "Aggregate rating\n",
      "0.0    9.0\n",
      "1.8    4.0\n",
      "1.9    4.0\n",
      "2.0    4.0\n",
      "2.1    4.0\n",
      "2.2    4.0\n",
      "2.3    4.0\n",
      "2.4    4.0\n",
      "2.5    7.0\n",
      "2.6    7.0\n",
      "2.7    7.0\n",
      "2.8    7.0\n",
      "2.9    7.0\n",
      "3.0    7.0\n",
      "3.1    7.0\n",
      "3.2    7.0\n",
      "3.3    7.0\n",
      "3.4    7.0\n",
      "3.5    4.0\n",
      "3.6    4.0\n",
      "3.7    4.0\n",
      "3.8    4.0\n",
      "3.9    4.0\n",
      "4.0    9.0\n",
      "4.1    9.0\n",
      "4.2    9.0\n",
      "4.3    9.0\n",
      "4.4    9.0\n",
      "4.5    9.0\n",
      "4.6    9.0\n",
      "4.7    9.0\n",
      "4.8    9.0\n",
      "4.9    9.0\n",
      "Name: Review Length, dtype: float64\n"
     ]
    },
    {
     "name": "stderr",
     "output_type": "stream",
     "text": [
      "[nltk_data] Downloading package stopwords to\n",
      "[nltk_data]     C:\\Users\\abhan\\AppData\\Roaming\\nltk_data...\n",
      "[nltk_data]   Package stopwords is already up-to-date!\n"
     ]
    }
   ],
   "source": [
    "#Level 3     #Task 1: Restaurant Reviews\n",
    "#Analyze the text reviews to identify the most common positive and negative keywords.\n",
    "#Calculate the average length of reviews and explore if there is a relationship between review length and rating.\n",
    "import nltk\n",
    "from nltk.corpus import stopwords\n",
    "from collections import Counter\n",
    "\n",
    "# Download NLTK resources\n",
    "nltk.download('stopwords')\n",
    "\n",
    "# Function to identify most common positive and negative keywords in reviews\n",
    "def analyze_reviews(data):\n",
    "    # Tokenize and lowercase text reviews\n",
    "    reviews = ' '.join(data['Rating text']).lower().split()\n",
    "    # Remove stopwords\n",
    "    stop_words = set(stopwords.words('english'))\n",
    "    reviews = [word for word in reviews if word not in stop_words]\n",
    "    # Count positive and negative keywords\n",
    "    positive_keywords = Counter([word for word in reviews if word in ['good', 'great', 'excellent']])\n",
    "    negative_keywords = Counter([word for word in reviews if word in ['bad', 'poor', 'terrible']])\n",
    "    return positive_keywords, negative_keywords\n",
    "\n",
    "# Function to calculate average length of reviews and explore relationship with rating\n",
    "def analyze_review_length(data):\n",
    "    data['Review Length'] = data['Rating text'].apply(len)\n",
    "    average_length_by_rating = data.groupby('Aggregate rating')['Review Length'].mean()\n",
    "    return average_length_by_rating\n",
    "\n",
    "# Usage:\n",
    "positive_keywords, negative_keywords = analyze_reviews(data)\n",
    "print(\"Most common positive keywords:\", positive_keywords.most_common(5))\n",
    "print(\"Most common negative keywords:\", negative_keywords.most_common(5))\n",
    "average_length_by_rating = analyze_review_length(data)\n",
    "print(\"Average length of reviews by rating:\")\n",
    "print(average_length_by_rating)\n"
   ]
  },
  {
   "cell_type": "code",
   "execution_count": 58,
   "id": "e6a22329-a4c7-4587-8eac-81786edfdc33",
   "metadata": {},
   "outputs": [
    {
     "name": "stdout",
     "output_type": "stream",
     "text": [
      "Restaurants with highest number of votes:\n",
      "                Restaurant Name  Votes\n",
      "728                        Toit  10934\n",
      "735                    Truffles   9667\n",
      "3994           Hauz Khas Social   7931\n",
      "2412                  Peter Cat   7574\n",
      "739   AB's - Absolute Barbecues   6907\n",
      "\n",
      "Restaurants with lowest number of votes:\n",
      "        Restaurant Name  Votes\n",
      "69     Cantinho da Gula      0\n",
      "874       The Chaiwalas      0\n",
      "879  Fusion Food Corner      0\n",
      "880       Punjabi Rasoi      0\n",
      "887       Baskin Robbin      0\n",
      "\n",
      "Correlation between votes and rating: 0.31369058419541146\n"
     ]
    }
   ],
   "source": [
    "#Level 3     #Task 2: Restaurant ReviewsTask: Votes Analysis\n",
    "#Identify the restaurants with the highest and lowest number of votes.\n",
    "#Analyze if there is a correlation between the number of votes and the rating of a restaurant.\n",
    "# Function to identify restaurants with highest and lowest number of votes\n",
    "def analyze_votes(data):\n",
    "    highest_voted_restaurants = data.nlargest(5, 'Votes')[['Restaurant Name', 'Votes']]\n",
    "    lowest_voted_restaurants = data.nsmallest(5, 'Votes')[['Restaurant Name', 'Votes']]\n",
    "    return highest_voted_restaurants, lowest_voted_restaurants\n",
    "\n",
    "# Function to analyze correlation between votes and rating\n",
    "def analyze_votes_rating_correlation(data):\n",
    "    correlation = data['Votes'].corr(data['Aggregate rating'])\n",
    "    return correlation\n",
    "\n",
    "# Usage:\n",
    "highest_voted_restaurants, lowest_voted_restaurants = analyze_votes(data)\n",
    "print(\"Restaurants with highest number of votes:\")\n",
    "print(highest_voted_restaurants)\n",
    "print(\"\\nRestaurants with lowest number of votes:\")\n",
    "print(lowest_voted_restaurants)\n",
    "correlation = analyze_votes_rating_correlation(data)\n",
    "print(\"\\nCorrelation between votes and rating:\", correlation)\n"
   ]
  },
  {
   "cell_type": "code",
   "execution_count": 88,
   "id": "d6a21b1a-49e8-47a4-af4c-a38ad978a5c7",
   "metadata": {},
   "outputs": [
    {
     "name": "stdout",
     "output_type": "stream",
     "text": [
      "Delivery Percentages by Price Range:\n",
      "{'Low': 100.0}\n",
      "\n",
      "Booking Percentages by Price Range:\n",
      "{'Low': 100.0}\n"
     ]
    }
   ],
   "source": [
    "#Level 3    Task 3: Price Range vs. Online Delivery and Table Booking\n",
    "#Analyze if there is a relationship between the price range and the availability of online delivery and table booking.\n",
    "#Determine if higher-priced restaurants are more likely to offer these services.\n",
    "# Function to analyze relationship between price range and online delivery / table booking\n",
    "def analyze_price_delivery_booking(data, price_range_col, delivery_col, booking_col):\n",
    "  \"\"\"Analyzes basic relationship between price range and services (using loop).\"\"\"\n",
    "  delivery_counts = {}\n",
    "  booking_counts = {}\n",
    "  total_restaurants = len(data)  # Assuming 'data' contains all restaurants\n",
    "  for restaurant in data:\n",
    "      price_range = restaurant[price_range_col]\n",
    "      delivery_counts[price_range] = delivery_counts.get(price_range, 0) + restaurant[delivery_col]\n",
    "      booking_counts[price_range] = booking_counts.get(price_range, 0) + restaurant[booking_col]\n",
    "  \n",
    "  # Calculate percentages directly (without dictionary comprehension)\n",
    "  delivery_percentages = {k: (v / total_restaurants) * 100 for k, v in delivery_counts.items()}\n",
    "  booking_percentages = {k: (v / total_restaurants) * 100 for k, v in booking_counts.items()}\n",
    "\n",
    "  return {\n",
    "      \"delivery_percentages\": delivery_percentages,\n",
    "      \"booking_percentages\": booking_percentages\n",
    "  }\n",
    "\n",
    "# Example usage (assuming your data is a list of dictionaries representing restaurants)\n",
    "restaurant_data = [\n",
    "    {\"Price range\": \"Low\", \"Has Online delivery\": True, \"Has Table booking\": True},\n",
    "    # Add more restaurants to your data...\n",
    "]\n",
    "\n",
    "analysis_results = analyze_price_delivery_booking(restaurant_data, \"Price range\", \"Has Online delivery\", \"Has Table booking\")\n",
    "\n",
    "# Access results (percentages)\n",
    "delivery_percentages = analysis_results[\"delivery_percentages\"]\n",
    "booking_percentages = analysis_results[\"booking_percentages\"]\n",
    "\n",
    "# Print or analyze results based on delivery_percentages & booking_percentages dictionaries\n",
    "print(\"Delivery Percentages by Price Range:\")\n",
    "print(delivery_percentages)\n",
    "print(\"\\nBooking Percentages by Price Range:\")\n",
    "print(booking_percentages)\n",
    "\n",
    "# Analyze trends manually by examining the percentage values\n",
    "\n",
    "\n"
   ]
  },
  {
   "cell_type": "code",
   "execution_count": null,
   "id": "2aae7513-6d54-4944-940e-ee51a8acdcbf",
   "metadata": {},
   "outputs": [],
   "source": []
  }
 ],
 "metadata": {
  "kernelspec": {
   "display_name": "Python 3 (ipykernel)",
   "language": "python",
   "name": "python3"
  },
  "language_info": {
   "codemirror_mode": {
    "name": "ipython",
    "version": 3
   },
   "file_extension": ".py",
   "mimetype": "text/x-python",
   "name": "python",
   "nbconvert_exporter": "python",
   "pygments_lexer": "ipython3",
   "version": "3.11.4"
  }
 },
 "nbformat": 4,
 "nbformat_minor": 5
}
